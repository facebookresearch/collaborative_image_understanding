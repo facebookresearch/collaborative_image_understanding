{
 "cells": [
  {
   "cell_type": "code",
   "execution_count": 1,
   "metadata": {},
   "outputs": [],
   "source": [
    "import logging\n",
    "import numpy as np\n",
    "import sys\n",
    "from tqdm.notebook import tqdm\n",
    "from sklearn.metrics import average_precision_score\n",
    "\n",
    "sys.path.append('../src')\n",
    "from dataset_utils import get_datasets\n",
    "\n",
    "logger = logging.getLogger(__name__)\n"
   ]
  },
  {
   "cell_type": "code",
   "execution_count": 2,
   "metadata": {},
   "outputs": [
    {
     "data": {
      "application/vnd.jupyter.widget-view+json": {
       "model_id": "258a51f2d3db469698c506d558cf9b44",
       "version_major": 2,
       "version_minor": 0
      },
      "text/plain": [
       "  0%|          | 0/8119 [00:00<?, ?it/s]"
      ]
     },
     "metadata": {},
     "output_type": "display_data"
    },
    {
     "name": "stdout",
     "output_type": "stream",
     "text": [
      "0.03141306485606054 0.03125\n"
     ]
    },
    {
     "data": {
      "application/vnd.jupyter.widget-view+json": {
       "model_id": "c63acdb97b094a8a8749976ddfc16b9a",
       "version_major": 2,
       "version_minor": 0
      },
      "text/plain": [
       "  0%|          | 0/3183 [00:00<?, ?it/s]"
      ]
     },
     "metadata": {},
     "output_type": "display_data"
    },
    {
     "name": "stdout",
     "output_type": "stream",
     "text": [
      "0.10776259784816523 0.10678439737420838\n"
     ]
    },
    {
     "data": {
      "application/vnd.jupyter.widget-view+json": {
       "model_id": "7d8cfcd797ec4f7aba5d9d30f035c87c",
       "version_major": 2,
       "version_minor": 0
      },
      "text/plain": [
       "  0%|          | 0/6766 [00:00<?, ?it/s]"
      ]
     },
     "metadata": {},
     "output_type": "display_data"
    },
    {
     "name": "stdout",
     "output_type": "stream",
     "text": [
      "0.016212146747320598 0.016176804804394426\n"
     ]
    },
    {
     "data": {
      "application/vnd.jupyter.widget-view+json": {
       "model_id": "f1a38ed29d30406aa303fb870e61a7a3",
       "version_major": 2,
       "version_minor": 0
      },
      "text/plain": [
       "  0%|          | 0/3572 [00:00<?, ?it/s]"
      ]
     },
     "metadata": {},
     "output_type": "display_data"
    },
    {
     "name": "stdout",
     "output_type": "stream",
     "text": [
      "0.02376077292056427 0.023708058562481857\n"
     ]
    }
   ],
   "source": [
    "categories = [\"pinterest\", 'movielens','Clothing_Shoes_and_Jewelry','Toys_and_Games']\n",
    "cfgs = [{\n",
    "    \"train_df_path\": f\"../outputs/{category}/df_train.pkl\",\n",
    "    \"test_df_path\": f\"../outputs/{category}/df_test.pkl\",\n",
    "    \"cf_vector_df_path\": f\"../outputs/{category}/cf_df.pkl\",\n",
    "} for category in categories ]\n",
    "\n",
    "# Load data\n",
    "for cfg in cfgs:\n",
    "    train_dataset, test_dataset, dataset_meta, pos_weight = get_datasets(\n",
    "        cfg[\"train_df_path\"],\n",
    "        cfg[\"test_df_path\"],\n",
    "        cfg[\"cf_vector_df_path\"],\n",
    "        out_dir=\".\",\n",
    "        labeled_ratio=1.0,\n",
    "        is_use_bias=True,\n",
    "        is_skip_img=True,\n",
    "        is_plot_conf_hist=False,\n",
    "    )\n",
    "\n",
    "    targets,random_based_preds,pop_based_preds = [],[],[]\n",
    "    for cf_vector, target  in tqdm(test_dataset):\n",
    "        random_based_preds.append(np.random.randint(low=0,high=2,size=target.shape))\n",
    "        targets.append(target.numpy())\n",
    "\n",
    "    random_based_preds = np.vstack(random_based_preds)\n",
    "    targets = np.vstack(targets)\n",
    "\n",
    "    pop = targets.sum(axis=0,keepdims=True)/targets.shape[0]\n",
    "    pop_based_preds = np.repeat(pop,len(targets),axis=0)\n",
    "\n",
    "    ap_random_based = average_precision_score(targets,random_based_preds)\n",
    "    ap_pop_based_preds = average_precision_score(targets,pop_based_preds)\n",
    "    print(f'{[ap_random_based, ap_pop_based_preds]=}')\n",
    "\n"
   ]
  },
  {
   "cell_type": "code",
   "execution_count": null,
   "metadata": {},
   "outputs": [],
   "source": []
  }
 ],
 "metadata": {
  "interpreter": {
   "hash": "93276fba55acec72ebf09ca3f12064a0f60315826507a886c17c3c32ba5acdb2"
  },
  "kernelspec": {
   "display_name": "Python 3.9.7 64-bit ('cactus': conda)",
   "language": "python",
   "name": "python3"
  },
  "language_info": {
   "codemirror_mode": {
    "name": "ipython",
    "version": 3
   },
   "file_extension": ".py",
   "mimetype": "text/x-python",
   "name": "python",
   "nbconvert_exporter": "python",
   "pygments_lexer": "ipython3",
   "version": "3.9.7"
  },
  "orig_nbformat": 4
 },
 "nbformat": 4,
 "nbformat_minor": 2
}
