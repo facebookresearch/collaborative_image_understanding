{
 "cells": [
  {
   "cell_type": "code",
   "execution_count": 1,
   "metadata": {},
   "outputs": [],
   "source": [
    "import os.path as osp\n",
    "import numpy as np\n",
    "import matplotlib.pyplot as plt\n",
    "import pandas as pd\n",
    "\n",
    "pd.set_option(\"display.max_columns\", None)\n",
    "pd.set_option(\"display.max_rows\", None)\n",
    "eps = np.finfo(\"float\").eps\n",
    "\n",
    "plt.style.use([\"science\", \"ieee\"])\n",
    "out_path = osp.join(\"../outputs/figures\")\n",
    "metric_res_dicts_path = osp.join(out_path, \"metric_res_dicts.npy\")\n"
   ]
  },
  {
   "cell_type": "code",
   "execution_count": 2,
   "metadata": {},
   "outputs": [],
   "source": [
    "metric_res_dicts= np.load(metric_res_dicts_path,allow_pickle=True).item()"
   ]
  },
  {
   "cell_type": "code",
   "execution_count": 3,
   "metadata": {},
   "outputs": [],
   "source": [
    "datasets = ['Pinterest','MovieLens', 'Clothing', 'Toys']"
   ]
  },
  {
   "cell_type": "markdown",
   "metadata": {},
   "source": [
    "# Plot performance"
   ]
  },
  {
   "cell_type": "code",
   "execution_count": 4,
   "metadata": {},
   "outputs": [],
   "source": [
    "from omegaconf import OmegaConf\n",
    "import sys\n",
    "sys.path.append('../src')\n",
    "\n",
    "def gini(x):\n",
    "    # (Warning: This is a concise implementation, but it is O(n**2)\n",
    "    # in time and memory, where n = len(x).  *Don't* pass in huge\n",
    "    # samples!)\n",
    "\n",
    "    # Mean absolute difference\n",
    "    mad = np.abs(np.subtract.outer(x, x)).mean()\n",
    "    # Relative mean absolute difference\n",
    "    rmad = mad/np.mean(x)\n",
    "    # Gini coefficient\n",
    "    g = 0.5 * rmad\n",
    "    return g\n",
    "\n",
    "def build_paths(results_path):\n",
    "    res_dict = OmegaConf.load(results_path)\n",
    "\n",
    "    # Build absolute path\n",
    "    res_dict = {\n",
    "        key: osp.join(res_dict[\"base_path\"], value)\n",
    "        for key, value in res_dict.items()\n",
    "        if key != \"base_path\"\n",
    "    }\n",
    "\n",
    "    return  {key: value for key, value in res_dict.items() if \"_cf\" not in key}\n",
    "\n",
    "def load_labels(base_path):\n",
    "    res_dict = build_paths(base_path)\n",
    "    labels = np.load(osp.join(list(res_dict.values())[0], \"labels.npy\"))\n",
    "    return labels"
   ]
  },
  {
   "cell_type": "code",
   "execution_count": 5,
   "metadata": {},
   "outputs": [
    {
     "name": "stdout",
     "output_type": "stream",
     "text": [
      "Toys_and_Games\n",
      "Clothing_Shoes_and_Jewelry\n",
      "movielens\n",
      "pinterest\n"
     ]
    }
   ],
   "source": [
    "dataset_mapping = {\n",
    "    \"Toys_and_Games\": \"Toys\",\n",
    "    \"Clothing_Shoes_and_Jewelry\": \"Clothing\",\n",
    "    \"movielens\": \"MovieLens\",\n",
    "    \"pinterest\": \"Pinterest\",\n",
    "}\n",
    "\n",
    "label_dict = {}\n",
    "for dataset_name, print_name in dataset_mapping.items():\n",
    "    print(dataset_name)\n",
    "    label_dict[print_name] = load_labels(\n",
    "        osp.join(f\"../outputs/{dataset_name}/results.yaml\")\n",
    "    )\n"
   ]
  },
  {
   "cell_type": "code",
   "execution_count": 6,
   "metadata": {},
   "outputs": [
    {
     "name": "stdout",
     "output_type": "stream",
     "text": [
      "3.3 2.5\n",
      "Pinterest 1.0 0.48002755641937256\n",
      "MovieLens 2.028903550109959 0.507033300190706\n",
      "Clothing 3.21918415607449 0.7381935156707278\n",
      "Toys 1.2802351623740202 0.5830721383968704\n"
     ]
    },
    {
     "data": {
      "image/png": "[encoded data removed]",
      "text/plain": [
       "<Figure size 495x495 with 4 Axes>"
      ]
     },
     "metadata": {
      "needs_background": "light"
     },
     "output_type": "display_data"
    }
   ],
   "source": [
    "w,h = plt.rcParams.get('figure.figsize')\n",
    "print(w,h)\n",
    "fig,axs = plt.subplots(2,2,dpi=150, figsize=(w,w))\n",
    "\n",
    "letters = ['a','b','c','d']\n",
    "axs = axs.flatten()\n",
    "for i, dataset_name in enumerate(datasets):\n",
    "    labels = label_dict[dataset_name]\n",
    "    count = labels.sum(axis=0)\n",
    "    count.sort()\n",
    "\n",
    "    ax = axs[i]\n",
    "    ax.bar(np.arange(len(count)),count[::-1])\n",
    "    ax.set_xlabel(f'Category \\n\\n ({letters[i]}) {dataset_name}')\n",
    "    ax.set_ylabel('Count')\n",
    "    ax.ticklabel_format(axis=\"y\", style=\"sci\", scilimits=(0, 0),useOffset=True)\n",
    "    print(f'{dataset_name} {labels.sum(axis=1).mean()} {gini(count)}')\n",
    "\n",
    "plt.tight_layout()\n",
    "plt.savefig(osp.join(out_path,f'label_count.pdf'))\n",
    "plt.show()"
   ]
  },
  {
   "cell_type": "code",
   "execution_count": 13,
   "metadata": {},
   "outputs": [
    {
     "name": "stdout",
     "output_type": "stream",
     "text": [
      "Pinterest 1.0 0.48002755641937256\n",
      "MovieLens 2.028903550109959 0.507033300190706\n"
     ]
    }
   ],
   "source": [
    "w,h = plt.rcParams.get('figure.figsize')\n",
    "# print(w,h)\n",
    "fig,axs = plt.subplots(1,4, figsize=(6, 1.45))\n",
    "\n",
    "letters = ['a','b','c','d']\n",
    "axs = axs.flatten()\n",
    "for i, dataset_name in enumerate(datasets):\n",
    "    labels = label_dict[dataset_name]\n",
    "    count = labels.sum(axis=0)\n",
    "    count.sort()\n",
    "\n",
    "    ax = axs[i]\n",
    "    ax.bar(np.arange(len(count)),count[::-1])\n",
    "    ax.set_xlabel(f'Category \\n\\n ({letters[i]}) {dataset_name}')\n",
    "    ax.set_ylabel('Count')\n",
    "    ax.ticklabel_format(axis=\"y\", style=\"sci\", scilimits=(0, 0),useOffset=True)\n",
    "    print(f'{dataset_name} {labels.sum(axis=1).mean()} {gini(count)}')\n",
    "\n",
    "plt.tight_layout()\n",
    "plt.savefig(osp.join(out_path,f'label_count_horizontal.pdf'))\n",
    "plt.show()"
   ]
  },
  {
   "cell_type": "code",
   "execution_count": null,
   "metadata": {},
   "outputs": [],
   "source": []
  }
 ],
 "metadata": {
  "interpreter": {
   "hash": "93276fba55acec72ebf09ca3f12064a0f60315826507a886c17c3c32ba5acdb2"
  },
  "kernelspec": {
   "display_name": "Python 3.9.7 64-bit ('cactus': conda)",
   "language": "python",
   "name": "python3"
  },
  "language_info": {
   "codemirror_mode": {
    "name": "ipython",
    "version": 3
   },
   "file_extension": ".py",
   "mimetype": "text/x-python",
   "name": "python",
   "nbconvert_exporter": "python",
   "pygments_lexer": "ipython3",
   "version": "3.9.7"
  },
  "orig_nbformat": 4
 },
 "nbformat": 4,
 "nbformat_minor": 2
}
